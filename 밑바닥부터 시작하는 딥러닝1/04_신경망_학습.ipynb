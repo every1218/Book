{
  "nbformat": 4,
  "nbformat_minor": 0,
  "metadata": {
    "colab": {
      "provenance": [],
      "collapsed_sections": [
        "EP0prLRVNNfs"
      ],
      "include_colab_link": true
    },
    "kernelspec": {
      "name": "python3",
      "display_name": "Python 3"
    },
    "language_info": {
      "name": "python"
    }
  },
  "cells": [
    {
      "cell_type": "markdown",
      "metadata": {
        "id": "view-in-github",
        "colab_type": "text"
      },
      "source": [
        "<a href=\"https://colab.research.google.com/github/every1218/Book/blob/main/%EB%B0%91%EB%B0%94%EB%8B%A5%EB%B6%80%ED%84%B0%20%EC%8B%9C%EC%9E%91%ED%95%98%EB%8A%94%20%EB%94%A5%EB%9F%AC%EB%8B%9D1/04_%EC%8B%A0%EA%B2%BD%EB%A7%9D_%ED%95%99%EC%8A%B5.ipynb\" target=\"_parent\"><img src=\"https://colab.research.google.com/assets/colab-badge.svg\" alt=\"Open In Colab\"/></a>"
      ]
    },
    {
      "cell_type": "markdown",
      "source": [
        "# 4장. 신경망 학습"
      ],
      "metadata": {
        "id": "3jNQyuLLHGGY"
      }
    },
    {
      "cell_type": "markdown",
      "source": [
        "## 예제 코드용 공통 로직\n",
        "\n",
        "[노트] 파일 분리 후 임포트하도록 수정 예정입니다."
      ],
      "metadata": {
        "id": "EP0prLRVNNfs"
      }
    },
    {
      "cell_type": "markdown",
      "source": [
        "### dataset/mnist.py"
      ],
      "metadata": {
        "id": "A5FmdWVAKhiE"
      }
    },
    {
      "cell_type": "code",
      "source": [
        "import urllib.request\n",
        "import os\n",
        "import os.path\n",
        "import pickle\n",
        "import numpy as np\n",
        "import tensorflow as tf\n",
        "\n",
        "mnist = tf.keras.datasets.mnist\n",
        "save_file = os.getcwd() + \"/mnist.pkl\"\n",
        "\n",
        "def _convert_numpy():\n",
        "    dataset = {}\n",
        "\n",
        "    (train_images, train_labels), (test_images, test_labels) = mnist.load_data()\n",
        "\n",
        "    # 이미지 데이터 평탄화\n",
        "    dataset['train_img'] = train_images.reshape(train_images.shape[0], -1)\n",
        "    dataset['train_label'] = train_labels\n",
        "    dataset['test_img'] = test_images.reshape(test_images.shape[0], -1)\n",
        "    dataset['test_label'] = test_labels\n",
        "\n",
        "    return dataset\n",
        "\n",
        "def init_mnist():\n",
        "    dataset = _convert_numpy()\n",
        "    print(\"Creating pickle file ...\")\n",
        "    with open(save_file, 'wb') as f:\n",
        "        pickle.dump(dataset, f, -1)\n",
        "    print(\"Done!\")\n",
        "\n",
        "def _change_one_hot_label(X):\n",
        "    T = np.zeros((X.size, 10))\n",
        "    for idx, row in enumerate(T):\n",
        "        row[X[idx]] = 1\n",
        "\n",
        "    return T\n",
        "\n",
        "def load_mnist(normalize=True, flatten=True, one_hot_label=False):\n",
        "    \"\"\"MNIST 데이터셋 읽기\n",
        "\n",
        "    Parameters\n",
        "    ----------\n",
        "    normalize : 이미지의 픽셀 값을 0.0~1.0 사이의 값으로 정규화할지 정한다.\n",
        "    one_hot_label :\n",
        "        one_hot_label이 True면、레이블을 원-핫(one-hot) 배열로 돌려준다.\n",
        "        one-hot 배열은 예를 들어 [0,0,1,0,0,0,0,0,0,0]처럼 한 원소만 1인 배열이다.\n",
        "    flatten : 입력 이미지를 1차원 배열로 만들지를 정한다.\n",
        "\n",
        "    Returns\n",
        "    -------\n",
        "    (훈련 이미지, 훈련 레이블), (시험 이미지, 시험 레이블)\n",
        "    \"\"\"\n",
        "    if not os.path.exists(save_file):\n",
        "        init_mnist()\n",
        "\n",
        "    with open(save_file, 'rb') as f:\n",
        "        dataset = pickle.load(f)\n",
        "\n",
        "    if normalize:\n",
        "        for key in ('train_img', 'test_img'):\n",
        "            dataset[key] = dataset[key].astype(np.float32)\n",
        "            dataset[key] /= 255.0\n",
        "\n",
        "    if one_hot_label:\n",
        "        dataset['train_label'] = _change_one_hot_label(dataset['train_label'])\n",
        "        dataset['test_label'] = _change_one_hot_label(dataset['test_label'])\n",
        "\n",
        "    if not flatten:\n",
        "         for key in ('train_img', 'test_img'):\n",
        "            dataset[key] = dataset[key].reshape(-1, 1, 28, 28)\n",
        "\n",
        "    return (dataset['train_img'], dataset['train_label']), (dataset['test_img'], dataset['test_label'])"
      ],
      "metadata": {
        "id": "yiCcYNASKLwF"
      },
      "execution_count": null,
      "outputs": []
    },
    {
      "cell_type": "markdown",
      "source": [
        "### common/functions.py"
      ],
      "metadata": {
        "id": "YE3H4J0k5lUe"
      }
    },
    {
      "cell_type": "code",
      "source": [
        "import numpy as np\n",
        "\n",
        "def softmax(x):\n",
        "    if x.ndim == 2:\n",
        "        x = x.T\n",
        "        x = x - np.max(x, axis=0)\n",
        "        y = np.exp(x) / np.sum(np.exp(x), axis=0)\n",
        "        return y.T\n",
        "\n",
        "    x = x - np.max(x) # 오버플로 대책\n",
        "    return np.exp(x) / np.sum(np.exp(x))\n",
        "\n",
        "\n",
        "def sigmoid(x):\n",
        "    return 1 / (1 + np.exp(-x))\n",
        "\n",
        "def sigmoid_grad(x):\n",
        "    return (1.0 - sigmoid(x)) * sigmoid(x)\n",
        "\n",
        "def softmax(x):\n",
        "    if x.ndim == 2:\n",
        "        x = x.T\n",
        "        x = x - np.max(x, axis=0)\n",
        "        y = np.exp(x) / np.sum(np.exp(x), axis=0)\n",
        "        return y.T\n",
        "\n",
        "    x = x - np.max(x)  # 오버플로 대책\n",
        "    return np.exp(x) / np.sum(np.exp(x))"
      ],
      "metadata": {
        "id": "s6_jNJZs5u_x"
      },
      "execution_count": null,
      "outputs": []
    },
    {
      "cell_type": "markdown",
      "source": [
        "## 4.2 손실 함수"
      ],
      "metadata": {
        "id": "2uX8gcyiHIoG"
      }
    },
    {
      "cell_type": "markdown",
      "source": [
        "### 4.2.1 오차제곱합"
      ],
      "metadata": {
        "id": "fylSmVcwHREi"
      }
    },
    {
      "cell_type": "code",
      "source": [
        "def sum_squares_error(y, t):\n",
        "    return 0.5 * np.sum((y-t)**2)"
      ],
      "metadata": {
        "id": "-W32tvqvHYS_"
      },
      "execution_count": null,
      "outputs": []
    },
    {
      "cell_type": "code",
      "source": [
        "# 정답은 '2'\n",
        "t = [0, 0, 1, 0, 0, 0, 0, 0, 0, 0]\n",
        "\n",
        "# 예1: '2'일 확률이 가장 높다고 추정함(0.6)\n",
        "y = [0.1, 0.05, 0.6, 0.0, 0.05, 0.1, 0.0, 0.1, 0.0, 0.0]\n",
        "\n",
        "sum_squares_error(np.array(y), np.array(t))"
      ],
      "metadata": {
        "colab": {
          "base_uri": "https://localhost:8080/"
        },
        "id": "AnvD_GuqHikD",
        "outputId": "0ad880c8-fa55-4b9a-995d-6f76d4d301fc"
      },
      "execution_count": null,
      "outputs": [
        {
          "output_type": "execute_result",
          "data": {
            "text/plain": [
              "0.09750000000000003"
            ]
          },
          "metadata": {},
          "execution_count": 4
        }
      ]
    },
    {
      "cell_type": "code",
      "source": [
        "# 예2: '7'일 확률이 가장 높다고 추정함(0.6)\n",
        "y = [0.1, 0.05, 0.1, 0.0, 0.05, 0.1, 0.0, 0.6, 0.0, 0.0]\n",
        "sum_squares_error(np.array(y), np.array(t))"
      ],
      "metadata": {
        "colab": {
          "base_uri": "https://localhost:8080/"
        },
        "id": "kWPQ2u2cH2Aw",
        "outputId": "c4b370ea-ed29-4dae-fa1f-fe8f03e1e938"
      },
      "execution_count": null,
      "outputs": [
        {
          "output_type": "execute_result",
          "data": {
            "text/plain": [
              "0.5975"
            ]
          },
          "metadata": {},
          "execution_count": 5
        }
      ]
    },
    {
      "cell_type": "markdown",
      "source": [
        "### 4.2.2 교차 엔트로피 오차"
      ],
      "metadata": {
        "id": "mq9k3ci_JEvM"
      }
    },
    {
      "cell_type": "code",
      "source": [
        "def cross_entropy_error(y, t):\n",
        "    delta = 1e-7\n",
        "    return -np.sum(t * np.log(y + delta))"
      ],
      "metadata": {
        "id": "6wKLyt6kJJIW"
      },
      "execution_count": null,
      "outputs": []
    },
    {
      "cell_type": "code",
      "source": [
        "t = [0, 0, 1, 0, 0, 0, 0, 0, 0, 0]\n",
        "y = [0.1, 0.05, 0.6, 0.0, 0.05, 0.1, 0.0, 0.1, 0.0, 0.0]\n",
        "\n",
        "cross_entropy_error(np.array(y), np.array(t))"
      ],
      "metadata": {
        "colab": {
          "base_uri": "https://localhost:8080/"
        },
        "id": "XbLh4bv9JsTl",
        "outputId": "22720747-0feb-4ee9-e17e-1cc34ce01a0b"
      },
      "execution_count": null,
      "outputs": [
        {
          "output_type": "execute_result",
          "data": {
            "text/plain": [
              "0.510825457099338"
            ]
          },
          "metadata": {},
          "execution_count": 7
        }
      ]
    },
    {
      "cell_type": "code",
      "source": [
        "y = [0.1, 0.05, 0.1, 0.0, 0.05, 0.1, 0.0, 0.6, 0.0, 0.0]\n",
        "cross_entropy_error(np.array(y), np.array(t))"
      ],
      "metadata": {
        "colab": {
          "base_uri": "https://localhost:8080/"
        },
        "id": "FqdYq4YSJ0YP",
        "outputId": "b687f595-5b18-4a35-9919-a1559f7ae4c6"
      },
      "execution_count": null,
      "outputs": [
        {
          "output_type": "execute_result",
          "data": {
            "text/plain": [
              "2.302584092994546"
            ]
          },
          "metadata": {},
          "execution_count": 8
        }
      ]
    },
    {
      "cell_type": "markdown",
      "source": [
        "### 4.2.3 미니배치 학습"
      ],
      "metadata": {
        "id": "axOUWWvuJ9O9"
      }
    },
    {
      "cell_type": "code",
      "source": [
        "(x_train, t_train), (x_test, t_test) = \\\n",
        "    load_mnist(normalize = True, one_hot_label = True)\n",
        "\n",
        "print(x_train.shape)  # (60000, 784)\n",
        "print(t_train.shape)  # (60000, 10)"
      ],
      "metadata": {
        "colab": {
          "base_uri": "https://localhost:8080/"
        },
        "id": "fcbUGJrYKWmI",
        "outputId": "a6297979-81b0-411b-a735-f8981e3d8bcb"
      },
      "execution_count": null,
      "outputs": [
        {
          "output_type": "stream",
          "name": "stdout",
          "text": [
            "Downloading data from https://storage.googleapis.com/tensorflow/tf-keras-datasets/mnist.npz\n",
            "\u001b[1m11490434/11490434\u001b[0m \u001b[32m━━━━━━━━━━━━━━━━━━━━\u001b[0m\u001b[37m\u001b[0m \u001b[1m0s\u001b[0m 0us/step\n",
            "Creating pickle file ...\n",
            "Done!\n",
            "(60000, 784)\n",
            "(60000, 10)\n"
          ]
        }
      ]
    },
    {
      "cell_type": "code",
      "source": [
        "train_size = x_train.shape[0]\n",
        "batch_size = 10\n",
        "batch_mask = np.random.choice(train_size, batch_size)\n",
        "x_batch = x_train[batch_mask]\n",
        "t_batch = t_train[batch_mask]"
      ],
      "metadata": {
        "id": "_0r9II54KraC"
      },
      "execution_count": null,
      "outputs": []
    },
    {
      "cell_type": "code",
      "source": [
        "np.random.choice(60000, 10)"
      ],
      "metadata": {
        "colab": {
          "base_uri": "https://localhost:8080/"
        },
        "id": "eR10O2w_Kud8",
        "outputId": "86927010-ba9b-4e55-ec4e-62822a288be6"
      },
      "execution_count": null,
      "outputs": [
        {
          "output_type": "execute_result",
          "data": {
            "text/plain": [
              "array([21685, 21778, 44257, 14744, 55768, 58494,  7604, 50775, 46345,\n",
              "       55735])"
            ]
          },
          "metadata": {},
          "execution_count": 11
        }
      ]
    },
    {
      "cell_type": "markdown",
      "source": [
        "### 4.2.4 (배치용) 교차 엔트로피 오차 구현하기"
      ],
      "metadata": {
        "id": "40rw1VF8K1gD"
      }
    },
    {
      "cell_type": "code",
      "source": [
        "def cross_entropy_error(y, t):\n",
        "    if y.ndim == 1:\n",
        "        t = t.reshape(1, t.size)\n",
        "        y = y.reshape(1, y.size)\n",
        "\n",
        "    batch_size = y.shape[0]\n",
        "    return -np.sum(t * np.log(y + 1e-7)) / batch_size"
      ],
      "metadata": {
        "id": "po-QuulyK6xR"
      },
      "execution_count": null,
      "outputs": []
    },
    {
      "cell_type": "code",
      "source": [
        "def cross_entropy_error(y, t):\n",
        "    if y.ndim == 1:\n",
        "        t = t.reshape(1, t.size)\n",
        "        y = y.reshape(1, y.size)\n",
        "\n",
        "    batch_size = y.shape[0]\n",
        "    return -np.sum(np.log(y[np.arange(batch_size), t] + 1e-7)) / batch_size"
      ],
      "metadata": {
        "id": "tnBmQJZ4LDyY"
      },
      "execution_count": null,
      "outputs": []
    },
    {
      "cell_type": "markdown",
      "source": [
        "## 4.3 수치 미분"
      ],
      "metadata": {
        "id": "JRUzCbqMLMDi"
      }
    },
    {
      "cell_type": "markdown",
      "source": [
        "### 4.3.1 미분"
      ],
      "metadata": {
        "id": "_bj2RnR1LPow"
      }
    },
    {
      "cell_type": "code",
      "source": [
        "# 나쁜 구현 예\n",
        "def numerical_diff(f, x):\n",
        "    h = 1e-50\n",
        "    return (f(x + h) - f(x)) / h"
      ],
      "metadata": {
        "id": "6MewD0-MLR0e"
      },
      "execution_count": null,
      "outputs": []
    },
    {
      "cell_type": "code",
      "source": [
        "np.float32(1e-50)"
      ],
      "metadata": {
        "colab": {
          "base_uri": "https://localhost:8080/"
        },
        "id": "lpbF-LELLXoV",
        "outputId": "40c5492f-479e-40f6-d271-bde2cbf10372"
      },
      "execution_count": null,
      "outputs": [
        {
          "output_type": "execute_result",
          "data": {
            "text/plain": [
              "0.0"
            ]
          },
          "metadata": {},
          "execution_count": 15
        }
      ]
    },
    {
      "cell_type": "markdown",
      "source": [
        "***ch04/gradient_1d.py***"
      ],
      "metadata": {
        "id": "GQMdqcl_LcAt"
      }
    },
    {
      "cell_type": "code",
      "source": [
        "def numerical_diff(f, x):\n",
        "    h = 1e-4  # 0.0001\n",
        "    return (f(x+h) - f(x-h)) / (2*h)"
      ],
      "metadata": {
        "id": "SZivBRT0LeAB"
      },
      "execution_count": null,
      "outputs": []
    },
    {
      "cell_type": "markdown",
      "source": [
        "### 4.3.2 수치 미분의 예"
      ],
      "metadata": {
        "id": "kZbnPe1vLtgp"
      }
    },
    {
      "cell_type": "markdown",
      "source": [
        "***ch04/gradient_1d.py***"
      ],
      "metadata": {
        "id": "ejHd353rLzgv"
      }
    },
    {
      "cell_type": "code",
      "source": [
        "def function_1(x):\n",
        "    return 0.01*x**2 + 0.1*x\n",
        "\n",
        "import numpy as np\n",
        "import matplotlib.pylab as plt\n",
        "\n",
        "x = np.arange(0.0, 20.0, 0.1)  # 0에서 20까지 0.1 간격의 배열 x를 만든다(20은 미포함).\n",
        "y = function_1(x)\n",
        "plt.xlabel(\"x\")\n",
        "plt.ylabel(\"f(x)\")\n",
        "plt.plot(x, y)\n",
        "plt.show()"
      ],
      "metadata": {
        "colab": {
          "base_uri": "https://localhost:8080/",
          "height": 449
        },
        "id": "rr9b9o8qLxbB",
        "outputId": "d9f9a59b-f8ed-421c-a82a-5d600d7ff66b"
      },
      "execution_count": null,
      "outputs": [
        {
          "output_type": "display_data",
          "data": {
            "text/plain": [
              "<Figure size 640x480 with 1 Axes>"
            ],
            "image/png": "[encoded data removed]"
          },
          "metadata": {}
        }
      ]
    },
    {
      "cell_type": "code",
      "source": [
        "numerical_diff(function_1, 5)"
      ],
      "metadata": {
        "colab": {
          "base_uri": "https://localhost:8080/"
        },
        "id": "-7cQ9OwVL-vM",
        "outputId": "032e889a-303d-4824-f0ec-f288557dd459"
      },
      "execution_count": null,
      "outputs": [
        {
          "output_type": "execute_result",
          "data": {
            "text/plain": [
              "0.1999999999990898"
            ]
          },
          "metadata": {},
          "execution_count": 18
        }
      ]
    },
    {
      "cell_type": "code",
      "source": [
        "numerical_diff(function_1, 10)"
      ],
      "metadata": {
        "colab": {
          "base_uri": "https://localhost:8080/"
        },
        "id": "42h99b9AMEpE",
        "outputId": "812b45a9-240f-45a7-f90c-910edaaeb4ea"
      },
      "execution_count": null,
      "outputs": [
        {
          "output_type": "execute_result",
          "data": {
            "text/plain": [
              "0.2999999999986347"
            ]
          },
          "metadata": {},
          "execution_count": 19
        }
      ]
    },
    {
      "cell_type": "markdown",
      "source": [
        "***ch04/gradient_1d.py***\n",
        "\n",
        "[그림 4-7]의 왼쪽 그래프"
      ],
      "metadata": {
        "id": "WOVq1OPBcsos"
      }
    },
    {
      "cell_type": "code",
      "source": [
        "#접선 추가\n",
        "def tangent_line(f, x):\n",
        "    d = numerical_diff(f, x)\n",
        "    print(d)\n",
        "    y = f(x) - d*x\n",
        "    return lambda t: d*t + y\n",
        "\n",
        "tf = tangent_line(function_1, 5)  # x = 5\n",
        "y2 = tf(x)\n",
        "\n",
        "plt.plot(x, y)\n",
        "plt.plot(x, y2)\n",
        "plt.show()"
      ],
      "metadata": {
        "colab": {
          "base_uri": "https://localhost:8080/",
          "height": 448
        },
        "id": "xw7OJ4oyctMF",
        "outputId": "edd1100f-be83-4f5b-e870-321474ab762e"
      },
      "execution_count": null,
      "outputs": [
        {
          "output_type": "stream",
          "name": "stdout",
          "text": [
            "0.1999999999990898\n"
          ]
        },
        {
          "output_type": "display_data",
          "data": {
            "text/plain": [
              "<Figure size 640x480 with 1 Axes>"
            ],
            "image/png": "[encoded data removed]"
          },
          "metadata": {}
        }
      ]
    },
    {
      "cell_type": "markdown",
      "source": [
        "***ch04/gradient_1d.py***\n",
        "\n",
        "[그림 4-7]의 오른쪽 그래프"
      ],
      "metadata": {
        "id": "sIDWkjiZdsCE"
      }
    },
    {
      "cell_type": "code",
      "source": [
        "tf = tangent_line(function_1, 10)  # x = 10\n",
        "y2 = tf(x)\n",
        "\n",
        "plt.plot(x, y)\n",
        "plt.plot(x, y2)\n",
        "plt.show()"
      ],
      "metadata": {
        "colab": {
          "base_uri": "https://localhost:8080/",
          "height": 448
        },
        "id": "bzbfeTP5dshT",
        "outputId": "5b271092-113a-43cd-ef1e-689fcbecfc11"
      },
      "execution_count": null,
      "outputs": [
        {
          "output_type": "stream",
          "name": "stdout",
          "text": [
            "0.2999999999986347\n"
          ]
        },
        {
          "output_type": "display_data",
          "data": {
            "text/plain": [
              "<Figure size 640x480 with 1 Axes>"
            ],
            "image/png": "[encoded data removed]"
          },
          "metadata": {}
        }
      ]
    },
    {
      "cell_type": "markdown",
      "source": [
        "### 4.3.3 편미분"
      ],
      "metadata": {
        "id": "LzgdMzOHMO3W"
      }
    },
    {
      "cell_type": "code",
      "source": [
        "def function_2(x):\n",
        "    return x[0]**2 + x[1]**2\n",
        "    # 또는 return np.sum(x**2)"
      ],
      "metadata": {
        "id": "3qiVo63MgV1y"
      },
      "execution_count": null,
      "outputs": []
    },
    {
      "cell_type": "code",
      "source": [
        "def function_tmp1(x0):\n",
        "    return x0*x0 + 4.0**2.0\n",
        "\n",
        "numerical_diff(function_tmp1, 3.0)"
      ],
      "metadata": {
        "colab": {
          "base_uri": "https://localhost:8080/"
        },
        "id": "2jws4Qq3gcpb",
        "outputId": "551b51a7-b371-48e0-e4d6-7ee51f28fe19"
      },
      "execution_count": null,
      "outputs": [
        {
          "output_type": "execute_result",
          "data": {
            "text/plain": [
              "6.00000000000378"
            ]
          },
          "metadata": {},
          "execution_count": 23
        }
      ]
    },
    {
      "cell_type": "code",
      "source": [
        "def function_tmp2(x1):\n",
        "    return 3.0**2.0 + x1*x1\n",
        "\n",
        "numerical_diff(function_tmp2, 4.0)"
      ],
      "metadata": {
        "colab": {
          "base_uri": "https://localhost:8080/"
        },
        "id": "Oi6w3HrPgwie",
        "outputId": "2facfad3-b609-49a5-e5b7-23239b3d7073"
      },
      "execution_count": null,
      "outputs": [
        {
          "output_type": "execute_result",
          "data": {
            "text/plain": [
              "7.999999999999119"
            ]
          },
          "metadata": {},
          "execution_count": 24
        }
      ]
    },
    {
      "cell_type": "markdown",
      "source": [
        "## 4.4 기울기"
      ],
      "metadata": {
        "id": "WrWLPzpKg3ki"
      }
    },
    {
      "cell_type": "code",
      "source": [
        "def numerical_gradient(f, x):\n",
        "    h = 1e-4  # 0.0001\n",
        "    grad = np.zeros_like(x)  # x와 형상이 같은 배열을 생성\n",
        "\n",
        "    for idx in range(x.size):\n",
        "        tmp_val = x[idx]\n",
        "\n",
        "        # f(x+h) 계산\n",
        "        x[idx] = tmp_val + h\n",
        "        fxh1 = f(x)\n",
        "\n",
        "        # f(x-h) 계산\n",
        "        x[idx] = tmp_val - h\n",
        "        fxh2 = f(x)\n",
        "\n",
        "        grad[idx] = (fxh1 - fxh2) / (2*h)\n",
        "        x[idx] = tmp_val  # 값 복원\n",
        "\n",
        "    return grad"
      ],
      "metadata": {
        "id": "zJq3SZ_DkF_6"
      },
      "execution_count": null,
      "outputs": []
    },
    {
      "cell_type": "code",
      "source": [
        "numerical_gradient(function_2, np.array([3.0, 4.0]))"
      ],
      "metadata": {
        "colab": {
          "base_uri": "https://localhost:8080/"
        },
        "id": "KGKl_fvikPUZ",
        "outputId": "ad75f2f3-e191-4b7f-86e6-de849a4e31c6"
      },
      "execution_count": null,
      "outputs": [
        {
          "output_type": "execute_result",
          "data": {
            "text/plain": [
              "array([6., 8.])"
            ]
          },
          "metadata": {},
          "execution_count": 26
        }
      ]
    },
    {
      "cell_type": "code",
      "source": [
        "numerical_gradient(function_2, np.array([0.0, 2.0]))"
      ],
      "metadata": {
        "colab": {
          "base_uri": "https://localhost:8080/"
        },
        "id": "sLB95T0UkcPX",
        "outputId": "0edcc882-43f8-41cf-a40f-f113add36a76"
      },
      "execution_count": null,
      "outputs": [
        {
          "output_type": "execute_result",
          "data": {
            "text/plain": [
              "array([0., 4.])"
            ]
          },
          "metadata": {},
          "execution_count": 27
        }
      ]
    },
    {
      "cell_type": "code",
      "source": [
        "numerical_gradient(function_2, np.array([3.0, 0.0]))"
      ],
      "metadata": {
        "colab": {
          "base_uri": "https://localhost:8080/"
        },
        "id": "v7QwGDvckfqV",
        "outputId": "02033057-6747-4c99-db46-60e889760a97"
      },
      "execution_count": null,
      "outputs": [
        {
          "output_type": "execute_result",
          "data": {
            "text/plain": [
              "array([6., 0.])"
            ]
          },
          "metadata": {},
          "execution_count": 28
        }
      ]
    },
    {
      "cell_type": "markdown",
      "source": [
        "***ch04/gradient_2d.py***"
      ],
      "metadata": {
        "id": "fGg31n5Tn7gl"
      }
    },
    {
      "cell_type": "code",
      "source": [
        "import numpy as np\n",
        "import matplotlib.pylab as plt\n",
        "from mpl_toolkits.mplot3d import Axes3D\n",
        "\n",
        "def _numerical_gradient_no_batch(f, x):\n",
        "    h = 1e-4 # 0.0001\n",
        "    grad = np.zeros_like(x) # x와 형상이 같은 배열을 생성\n",
        "\n",
        "    for idx in range(x.size):\n",
        "        tmp_val = x[idx]\n",
        "\n",
        "        # f(x+h) 계산\n",
        "        x[idx] = float(tmp_val) + h\n",
        "        fxh1 = f(x)\n",
        "\n",
        "        # f(x-h) 계산\n",
        "        x[idx] = tmp_val - h\n",
        "        fxh2 = f(x)\n",
        "\n",
        "        grad[idx] = (fxh1 - fxh2) / (2*h)\n",
        "        x[idx] = tmp_val # 값 복원\n",
        "\n",
        "    return grad\n",
        "\n",
        "def numerical_gradient(f, X):\n",
        "    if X.ndim == 1:\n",
        "        return _numerical_gradient_no_batch(f, X)\n",
        "    else:\n",
        "        grad = np.zeros_like(X)\n",
        "\n",
        "        for idx, x in enumerate(X):\n",
        "            grad[idx] = _numerical_gradient_no_batch(f, x)\n",
        "\n",
        "        return grad\n",
        "\n",
        "def function_2(x):\n",
        "    if x.ndim == 1:\n",
        "        return np.sum(x**2)\n",
        "    else:\n",
        "        return np.sum(x**2, axis=1)\n",
        "\n",
        "x0 = np.arange(-2, 2.5, 0.25)\n",
        "x1 = np.arange(-2, 2.5, 0.25)\n",
        "X, Y = np.meshgrid(x0, x1)\n",
        "\n",
        "X = X.flatten()\n",
        "Y = Y.flatten()\n",
        "\n",
        "grad = numerical_gradient(function_2, np.array([X, Y]))\n",
        "\n",
        "plt.figure()\n",
        "plt.quiver(X, Y, -grad[0], -grad[1],  angles=\"xy\",color=\"#666666\")\n",
        "plt.xlim([-2, 2])\n",
        "plt.ylim([-2, 2])\n",
        "plt.xlabel('x0')\n",
        "plt.ylabel('x1')\n",
        "plt.grid()\n",
        "plt.draw()\n",
        "plt.show()"
      ],
      "metadata": {
        "colab": {
          "base_uri": "https://localhost:8080/",
          "height": 455
        },
        "id": "kKeJzlTJlOFW",
        "outputId": "e46b1afb-9b62-4dcd-b75e-bad30359e656"
      },
      "execution_count": null,
      "outputs": [
        {
          "output_type": "display_data",
          "data": {
            "text/plain": [
              "<Figure size 640x480 with 1 Axes>"
            ],
            "image/png": "[encoded data removed]"
          },
          "metadata": {}
        }
      ]
    },
    {
      "cell_type": "markdown",
      "source": [
        "### 4.4.1 경사법(경사 하강법)"
      ],
      "metadata": {
        "id": "3PLUraIWkmZB"
      }
    },
    {
      "cell_type": "code",
      "source": [
        "def gradient_descent(f, init_x, lr= 0.01, step_num = 100):\n",
        "    x = init_x\n",
        "\n",
        "    for i in range(step_num):\n",
        "        grad = numerical_gradient(f, x)\n",
        "        x -= lr * grad\n",
        "    return x"
      ],
      "metadata": {
        "id": "tusOuk65kroy"
      },
      "execution_count": null,
      "outputs": []
    },
    {
      "cell_type": "code",
      "source": [
        "def function_2(x):\n",
        "    return x[0]**2 + x[1]**2\n",
        "\n",
        "init_x = np.array([-3.0, 4.0])\n",
        "gradient_descent(function_2, init_x = init_x, lr = 0.1, step_num = 100)"
      ],
      "metadata": {
        "colab": {
          "base_uri": "https://localhost:8080/"
        },
        "id": "KsZKHJC8kvQ1",
        "outputId": "8c54668e-b1a9-415d-cde8-61a6edfdc2ae"
      },
      "execution_count": null,
      "outputs": [
        {
          "output_type": "execute_result",
          "data": {
            "text/plain": [
              "array([-6.11110793e-10,  8.14814391e-10])"
            ]
          },
          "metadata": {},
          "execution_count": 31
        }
      ]
    },
    {
      "cell_type": "markdown",
      "source": [
        "***ch04/gradient_method.py***"
      ],
      "metadata": {
        "id": "JOt9w-37t9u5"
      }
    },
    {
      "cell_type": "code",
      "source": [
        "import numpy as np\n",
        "import matplotlib.pylab as plt\n",
        "#from gradient_2d import numerical_gradient\n",
        "\n",
        "def gradient_descent(f, init_x, lr=0.01, step_num=100):\n",
        "    x = init_x\n",
        "    x_history = []\n",
        "\n",
        "    for i in range(step_num):\n",
        "        x_history.append( x.copy() )\n",
        "\n",
        "        grad = numerical_gradient(f, x)\n",
        "        x -= lr * grad\n",
        "\n",
        "    return x, np.array(x_history)\n",
        "\n",
        "\n",
        "def function_2(x):\n",
        "    return x[0]**2 + x[1]**2\n",
        "\n",
        "init_x = np.array([-3.0, 4.0])\n",
        "\n",
        "lr = 0.1\n",
        "step_num = 20\n",
        "x, x_history = gradient_descent(function_2, init_x, lr=lr, step_num=step_num)\n",
        "\n",
        "plt.plot( [-5, 5], [0,0], '--b')\n",
        "plt.plot( [0,0], [-5, 5], '--b')\n",
        "plt.plot(x_history[:,0], x_history[:,1], 'o')\n",
        "\n",
        "plt.xlim(-3.5, 3.5)\n",
        "plt.ylim(-4.5, 4.5)\n",
        "plt.xlabel(\"X0\")\n",
        "plt.ylabel(\"X1\")\n",
        "plt.show()"
      ],
      "metadata": {
        "colab": {
          "base_uri": "https://localhost:8080/",
          "height": 449
        },
        "id": "9dadcTRYt9Ej",
        "outputId": "210333a8-8aca-4350-af2e-6550e57f9540"
      },
      "execution_count": null,
      "outputs": [
        {
          "output_type": "display_data",
          "data": {
            "text/plain": [
              "<Figure size 640x480 with 1 Axes>"
            ],
            "image/png": "[encoded data removed]"
          },
          "metadata": {}
        }
      ]
    },
    {
      "cell_type": "code",
      "source": [
        "# 학습률이 너무 큰 예: lr = 10.0\n",
        "init_x = np.array([-3.0, 4.0])\n",
        "gradient_descent(function_2, init_x = init_x, lr = 10.0, step_num = 100)"
      ],
      "metadata": {
        "colab": {
          "base_uri": "https://localhost:8080/"
        },
        "id": "TNRfyL_L4wux",
        "outputId": "a05825f0-2fae-4188-a036-36ffdcf091e4"
      },
      "execution_count": null,
      "outputs": [
        {
          "output_type": "execute_result",
          "data": {
            "text/plain": [
              "(array([-2.58983747e+13, -1.29524862e+12]),\n",
              " array([[-3.00000000e+00,  4.00000000e+00],\n",
              "        [ 5.70000000e+01, -7.60000000e+01],\n",
              "        [-1.08300000e+03,  1.44400000e+03],\n",
              "        [ 2.05770000e+04, -2.74360000e+04],\n",
              "        [-3.90963008e+05,  5.21284002e+05],\n",
              "        [ 7.42829664e+06, -9.90439654e+06],\n",
              "        [-1.41137328e+08,  1.88183103e+08],\n",
              "        [ 2.68126267e+09, -3.57501690e+09],\n",
              "        [-5.09763373e+10,  6.79001831e+10],\n",
              "        [ 9.45170863e+11, -1.29524862e+12],\n",
              "        [-2.58983747e+13, -1.29524862e+12],\n",
              "        [-2.58983747e+13, -1.29524862e+12],\n",
              "        [-2.58983747e+13, -1.29524862e+12],\n",
              "        [-2.58983747e+13, -1.29524862e+12],\n",
              "        [-2.58983747e+13, -1.29524862e+12],\n",
              "        [-2.58983747e+13, -1.29524862e+12],\n",
              "        [-2.58983747e+13, -1.29524862e+12],\n",
              "        [-2.58983747e+13, -1.29524862e+12],\n",
              "        [-2.58983747e+13, -1.29524862e+12],\n",
              "        [-2.58983747e+13, -1.29524862e+12],\n",
              "        [-2.58983747e+13, -1.29524862e+12],\n",
              "        [-2.58983747e+13, -1.29524862e+12],\n",
              "        [-2.58983747e+13, -1.29524862e+12],\n",
              "        [-2.58983747e+13, -1.29524862e+12],\n",
              "        [-2.58983747e+13, -1.29524862e+12],\n",
              "        [-2.58983747e+13, -1.29524862e+12],\n",
              "        [-2.58983747e+13, -1.29524862e+12],\n",
              "        [-2.58983747e+13, -1.29524862e+12],\n",
              "        [-2.58983747e+13, -1.29524862e+12],\n",
              "        [-2.58983747e+13, -1.29524862e+12],\n",
              "        [-2.58983747e+13, -1.29524862e+12],\n",
              "        [-2.58983747e+13, -1.29524862e+12],\n",
              "        [-2.58983747e+13, -1.29524862e+12],\n",
              "        [-2.58983747e+13, -1.29524862e+12],\n",
              "        [-2.58983747e+13, -1.29524862e+12],\n",
              "        [-2.58983747e+13, -1.29524862e+12],\n",
              "        [-2.58983747e+13, -1.29524862e+12],\n",
              "        [-2.58983747e+13, -1.29524862e+12],\n",
              "        [-2.58983747e+13, -1.29524862e+12],\n",
              "        [-2.58983747e+13, -1.29524862e+12],\n",
              "        [-2.58983747e+13, -1.29524862e+12],\n",
              "        [-2.58983747e+13, -1.29524862e+12],\n",
              "        [-2.58983747e+13, -1.29524862e+12],\n",
              "        [-2.58983747e+13, -1.29524862e+12],\n",
              "        [-2.58983747e+13, -1.29524862e+12],\n",
              "        [-2.58983747e+13, -1.29524862e+12],\n",
              "        [-2.58983747e+13, -1.29524862e+12],\n",
              "        [-2.58983747e+13, -1.29524862e+12],\n",
              "        [-2.58983747e+13, -1.29524862e+12],\n",
              "        [-2.58983747e+13, -1.29524862e+12],\n",
              "        [-2.58983747e+13, -1.29524862e+12],\n",
              "        [-2.58983747e+13, -1.29524862e+12],\n",
              "        [-2.58983747e+13, -1.29524862e+12],\n",
              "        [-2.58983747e+13, -1.29524862e+12],\n",
              "        [-2.58983747e+13, -1.29524862e+12],\n",
              "        [-2.58983747e+13, -1.29524862e+12],\n",
              "        [-2.58983747e+13, -1.29524862e+12],\n",
              "        [-2.58983747e+13, -1.29524862e+12],\n",
              "        [-2.58983747e+13, -1.29524862e+12],\n",
              "        [-2.58983747e+13, -1.29524862e+12],\n",
              "        [-2.58983747e+13, -1.29524862e+12],\n",
              "        [-2.58983747e+13, -1.29524862e+12],\n",
              "        [-2.58983747e+13, -1.29524862e+12],\n",
              "        [-2.58983747e+13, -1.29524862e+12],\n",
              "        [-2.58983747e+13, -1.29524862e+12],\n",
              "        [-2.58983747e+13, -1.29524862e+12],\n",
              "        [-2.58983747e+13, -1.29524862e+12],\n",
              "        [-2.58983747e+13, -1.29524862e+12],\n",
              "        [-2.58983747e+13, -1.29524862e+12],\n",
              "        [-2.58983747e+13, -1.29524862e+12],\n",
              "        [-2.58983747e+13, -1.29524862e+12],\n",
              "        [-2.58983747e+13, -1.29524862e+12],\n",
              "        [-2.58983747e+13, -1.29524862e+12],\n",
              "        [-2.58983747e+13, -1.29524862e+12],\n",
              "        [-2.58983747e+13, -1.29524862e+12],\n",
              "        [-2.58983747e+13, -1.29524862e+12],\n",
              "        [-2.58983747e+13, -1.29524862e+12],\n",
              "        [-2.58983747e+13, -1.29524862e+12],\n",
              "        [-2.58983747e+13, -1.29524862e+12],\n",
              "        [-2.58983747e+13, -1.29524862e+12],\n",
              "        [-2.58983747e+13, -1.29524862e+12],\n",
              "        [-2.58983747e+13, -1.29524862e+12],\n",
              "        [-2.58983747e+13, -1.29524862e+12],\n",
              "        [-2.58983747e+13, -1.29524862e+12],\n",
              "        [-2.58983747e+13, -1.29524862e+12],\n",
              "        [-2.58983747e+13, -1.29524862e+12],\n",
              "        [-2.58983747e+13, -1.29524862e+12],\n",
              "        [-2.58983747e+13, -1.29524862e+12],\n",
              "        [-2.58983747e+13, -1.29524862e+12],\n",
              "        [-2.58983747e+13, -1.29524862e+12],\n",
              "        [-2.58983747e+13, -1.29524862e+12],\n",
              "        [-2.58983747e+13, -1.29524862e+12],\n",
              "        [-2.58983747e+13, -1.29524862e+12],\n",
              "        [-2.58983747e+13, -1.29524862e+12],\n",
              "        [-2.58983747e+13, -1.29524862e+12],\n",
              "        [-2.58983747e+13, -1.29524862e+12],\n",
              "        [-2.58983747e+13, -1.29524862e+12],\n",
              "        [-2.58983747e+13, -1.29524862e+12],\n",
              "        [-2.58983747e+13, -1.29524862e+12],\n",
              "        [-2.58983747e+13, -1.29524862e+12]]))"
            ]
          },
          "metadata": {},
          "execution_count": 33
        }
      ]
    },
    {
      "cell_type": "code",
      "source": [
        "# 학습률이 너무 작은 예: lr = 1e-10\n",
        "init_x = np.array([-3.0, 4.0])\n",
        "gradient_descent(function_2, init_x = init_x, lr = 1e-10, step_num = 100)"
      ],
      "metadata": {
        "colab": {
          "base_uri": "https://localhost:8080/"
        },
        "id": "j1FaAlka485N",
        "outputId": "e8d5d7c0-614f-46ae-80f8-a88584859054"
      },
      "execution_count": null,
      "outputs": [
        {
          "output_type": "execute_result",
          "data": {
            "text/plain": [
              "(array([-2.99999994,  3.99999992]),\n",
              " array([[-3.        ,  4.        ],\n",
              "        [-3.        ,  4.        ],\n",
              "        [-3.        ,  4.        ],\n",
              "        [-3.        ,  4.        ],\n",
              "        [-3.        ,  4.        ],\n",
              "        [-3.        ,  4.        ],\n",
              "        [-3.        ,  4.        ],\n",
              "        [-3.        ,  3.99999999],\n",
              "        [-3.        ,  3.99999999],\n",
              "        [-2.99999999,  3.99999999],\n",
              "        [-2.99999999,  3.99999999],\n",
              "        [-2.99999999,  3.99999999],\n",
              "        [-2.99999999,  3.99999999],\n",
              "        [-2.99999999,  3.99999999],\n",
              "        [-2.99999999,  3.99999999],\n",
              "        [-2.99999999,  3.99999999],\n",
              "        [-2.99999999,  3.99999999],\n",
              "        [-2.99999999,  3.99999999],\n",
              "        [-2.99999999,  3.99999999],\n",
              "        [-2.99999999,  3.99999998],\n",
              "        [-2.99999999,  3.99999998],\n",
              "        [-2.99999999,  3.99999998],\n",
              "        [-2.99999999,  3.99999998],\n",
              "        [-2.99999999,  3.99999998],\n",
              "        [-2.99999999,  3.99999998],\n",
              "        [-2.99999998,  3.99999998],\n",
              "        [-2.99999998,  3.99999998],\n",
              "        [-2.99999998,  3.99999998],\n",
              "        [-2.99999998,  3.99999998],\n",
              "        [-2.99999998,  3.99999998],\n",
              "        [-2.99999998,  3.99999998],\n",
              "        [-2.99999998,  3.99999998],\n",
              "        [-2.99999998,  3.99999997],\n",
              "        [-2.99999998,  3.99999997],\n",
              "        [-2.99999998,  3.99999997],\n",
              "        [-2.99999998,  3.99999997],\n",
              "        [-2.99999998,  3.99999997],\n",
              "        [-2.99999998,  3.99999997],\n",
              "        [-2.99999998,  3.99999997],\n",
              "        [-2.99999998,  3.99999997],\n",
              "        [-2.99999998,  3.99999997],\n",
              "        [-2.99999998,  3.99999997],\n",
              "        [-2.99999997,  3.99999997],\n",
              "        [-2.99999997,  3.99999997],\n",
              "        [-2.99999997,  3.99999996],\n",
              "        [-2.99999997,  3.99999996],\n",
              "        [-2.99999997,  3.99999996],\n",
              "        [-2.99999997,  3.99999996],\n",
              "        [-2.99999997,  3.99999996],\n",
              "        [-2.99999997,  3.99999996],\n",
              "        [-2.99999997,  3.99999996],\n",
              "        [-2.99999997,  3.99999996],\n",
              "        [-2.99999997,  3.99999996],\n",
              "        [-2.99999997,  3.99999996],\n",
              "        [-2.99999997,  3.99999996],\n",
              "        [-2.99999997,  3.99999996],\n",
              "        [-2.99999997,  3.99999996],\n",
              "        [-2.99999997,  3.99999995],\n",
              "        [-2.99999997,  3.99999995],\n",
              "        [-2.99999996,  3.99999995],\n",
              "        [-2.99999996,  3.99999995],\n",
              "        [-2.99999996,  3.99999995],\n",
              "        [-2.99999996,  3.99999995],\n",
              "        [-2.99999996,  3.99999995],\n",
              "        [-2.99999996,  3.99999995],\n",
              "        [-2.99999996,  3.99999995],\n",
              "        [-2.99999996,  3.99999995],\n",
              "        [-2.99999996,  3.99999995],\n",
              "        [-2.99999996,  3.99999995],\n",
              "        [-2.99999996,  3.99999994],\n",
              "        [-2.99999996,  3.99999994],\n",
              "        [-2.99999996,  3.99999994],\n",
              "        [-2.99999996,  3.99999994],\n",
              "        [-2.99999996,  3.99999994],\n",
              "        [-2.99999996,  3.99999994],\n",
              "        [-2.99999995,  3.99999994],\n",
              "        [-2.99999995,  3.99999994],\n",
              "        [-2.99999995,  3.99999994],\n",
              "        [-2.99999995,  3.99999994],\n",
              "        [-2.99999995,  3.99999994],\n",
              "        [-2.99999995,  3.99999994],\n",
              "        [-2.99999995,  3.99999994],\n",
              "        [-2.99999995,  3.99999993],\n",
              "        [-2.99999995,  3.99999993],\n",
              "        [-2.99999995,  3.99999993],\n",
              "        [-2.99999995,  3.99999993],\n",
              "        [-2.99999995,  3.99999993],\n",
              "        [-2.99999995,  3.99999993],\n",
              "        [-2.99999995,  3.99999993],\n",
              "        [-2.99999995,  3.99999993],\n",
              "        [-2.99999995,  3.99999993],\n",
              "        [-2.99999995,  3.99999993],\n",
              "        [-2.99999994,  3.99999993],\n",
              "        [-2.99999994,  3.99999993],\n",
              "        [-2.99999994,  3.99999992],\n",
              "        [-2.99999994,  3.99999992],\n",
              "        [-2.99999994,  3.99999992],\n",
              "        [-2.99999994,  3.99999992],\n",
              "        [-2.99999994,  3.99999992],\n",
              "        [-2.99999994,  3.99999992]]))"
            ]
          },
          "metadata": {},
          "execution_count": 34
        }
      ]
    },
    {
      "cell_type": "markdown",
      "source": [
        "### 4.4.2 신경망에서의 기울기"
      ],
      "metadata": {
        "id": "F7hQeUWV5Ufz"
      }
    },
    {
      "cell_type": "markdown",
      "source": [
        "***ch04/gradient_simplenet.py***"
      ],
      "metadata": {
        "id": "_CB_kEuu5Y7D"
      }
    },
    {
      "cell_type": "code",
      "source": [
        "import numpy as np\n",
        "#from common.functions import softmax, cross_entropy_error\n",
        "#from common.gradient import numerical_gradient\n",
        "\n",
        "class simpleNet:\n",
        "    def __init__(self):\n",
        "        self.W = np.random.randn(2,3)  # 정규분포로 초기화\n",
        "\n",
        "    def predict(self, x):\n",
        "        return np.dot(x, self.W)\n",
        "\n",
        "    def loss(self, x, t):\n",
        "        z = self.predict(x)\n",
        "        y = softmax(z)\n",
        "        loss = cross_entropy_error(y, t)\n",
        "\n",
        "        return loss"
      ],
      "metadata": {
        "id": "6IHCruhH5X5h"
      },
      "execution_count": null,
      "outputs": []
    },
    {
      "cell_type": "code",
      "source": [
        "net = simpleNet()\n",
        "print(net.W)  # 가중치 매개변수"
      ],
      "metadata": {
        "colab": {
          "base_uri": "https://localhost:8080/"
        },
        "id": "8Ega66Zd6HP3",
        "outputId": "1bd617dd-bf4f-4222-bc92-f91754928c0d"
      },
      "execution_count": null,
      "outputs": [
        {
          "output_type": "stream",
          "name": "stdout",
          "text": [
            "[[-1.04040386 -0.33626729  0.32472986]\n",
            " [ 0.00956881 -0.35495618 -1.26328324]]\n"
          ]
        }
      ]
    },
    {
      "cell_type": "code",
      "source": [
        "x = np.array([0.6, 0.9])\n",
        "p = net.predict(x)\n",
        "print(p)"
      ],
      "metadata": {
        "colab": {
          "base_uri": "https://localhost:8080/"
        },
        "id": "mUtWuAb06Qi3",
        "outputId": "51accecf-0577-461f-9683-937b5854ec34"
      },
      "execution_count": null,
      "outputs": [
        {
          "output_type": "stream",
          "name": "stdout",
          "text": [
            "[-0.61563038 -0.52122094 -0.942117  ]\n"
          ]
        }
      ]
    },
    {
      "cell_type": "code",
      "source": [
        "np.argmax(p)  # 최댓값의 인덱스"
      ],
      "metadata": {
        "colab": {
          "base_uri": "https://localhost:8080/"
        },
        "id": "Expwm_-V6WHB",
        "outputId": "8fe2f9fe-6f8a-4290-e8aa-ddc03675ac97"
      },
      "execution_count": null,
      "outputs": [
        {
          "output_type": "execute_result",
          "data": {
            "text/plain": [
              "1"
            ]
          },
          "metadata": {},
          "execution_count": 38
        }
      ]
    },
    {
      "cell_type": "code",
      "source": [
        "t = np.array([0, 0, 1])  # 정답 레이블\n",
        "net.loss(x, t)"
      ],
      "metadata": {
        "colab": {
          "base_uri": "https://localhost:8080/"
        },
        "id": "6zLS-K8-6Zf8",
        "outputId": "9c69ae5c-f1d7-4229-d076-a97de98f22d0"
      },
      "execution_count": null,
      "outputs": [
        {
          "output_type": "execute_result",
          "data": {
            "text/plain": [
              "3.016293610052446"
            ]
          },
          "metadata": {},
          "execution_count": 39
        }
      ]
    },
    {
      "cell_type": "code",
      "source": [
        "def f(W):\n",
        "    return net.loss(x, t)\n",
        "\n",
        "dW = numerical_gradient(f, net.W)\n",
        "print(dW)"
      ],
      "metadata": {
        "colab": {
          "base_uri": "https://localhost:8080/"
        },
        "id": "Y1jYJDsu6jf2",
        "outputId": "4a3829c9-5f23-41b1-bee9-057729e14cd2"
      },
      "execution_count": null,
      "outputs": [
        {
          "output_type": "stream",
          "name": "stdout",
          "text": [
            "[[-0.5618069   0.10138015  0.46042674]\n",
            " [-0.84271034  0.15207023  0.69064011]]\n"
          ]
        }
      ]
    },
    {
      "cell_type": "code",
      "source": [
        "f = lambda w: net.loss(x, t)\n",
        "dW = numerical_gradient(f, net.W)"
      ],
      "metadata": {
        "id": "Z339shys6qJP"
      },
      "execution_count": null,
      "outputs": []
    },
    {
      "cell_type": "markdown",
      "source": [
        "## 4.5 학습 알고리즘 구현하기"
      ],
      "metadata": {
        "id": "Zwf-IcIR6u_O"
      }
    },
    {
      "cell_type": "markdown",
      "source": [
        "### 4.5.1 2층 신경망 클래스 구현하기"
      ],
      "metadata": {
        "id": "6r9HPJm56x9E"
      }
    },
    {
      "cell_type": "code",
      "source": [
        "def cross_entropy_error(y, t):\n",
        "    if y.ndim == 1:\n",
        "        t = t.reshape(1, t.size)\n",
        "        y = y.reshape(1, y.size)\n",
        "\n",
        "    # 훈련 데이터가 원-핫 벡터라면 정답 레이블의 인덱스로 반환\n",
        "    if t.size == y.size:\n",
        "        t = t.argmax(axis=1)\n",
        "\n",
        "    batch_size = y.shape[0]\n",
        "    return -np.sum(np.log(y[np.arange(batch_size), t] + 1e-7)) / batch_size"
      ],
      "metadata": {
        "id": "n9wxQC2yRZ-4"
      },
      "execution_count": null,
      "outputs": []
    },
    {
      "cell_type": "markdown",
      "source": [
        "***ch04/two_layer_net.py***"
      ],
      "metadata": {
        "id": "VNl6LGaz606U"
      }
    },
    {
      "cell_type": "code",
      "source": [
        "#from common.functions import *\n",
        "#from common.gradient import numerical_gradient\n",
        "\n",
        "class TwoLayerNet:\n",
        "    def __init__(self, input_size, hidden_size, output_size,\n",
        "                weight_init_std = 0.01):\n",
        "        # 가중치 초기화\n",
        "        self.params = {}\n",
        "        self.params['W1'] = weight_init_std * \\\n",
        "                            np.random.randn(input_size, hidden_size)\n",
        "        self.params['b1'] = np.zeros(hidden_size)\n",
        "        self.params['W2'] = weight_init_std * \\\n",
        "                            np.random.randn(hidden_size, output_size)\n",
        "        self.params['b2'] = np.zeros(output_size)\n",
        "\n",
        "    def predict(self, x):\n",
        "        W1, W2 = self.params['W1'], self.params['W2']\n",
        "        b1, b2 = self.params['b1'], self.params['b2']\n",
        "\n",
        "        a1 = np.dot(x, W1) + b1\n",
        "        z1 = sigmoid(a1)\n",
        "        a2 = np.dot(z1, W2) + b2\n",
        "        y = softmax(a2)\n",
        "\n",
        "        return y\n",
        "\n",
        "    # x : 입력 데이터, t : 정답 레이블\n",
        "    def loss(self, x, t):\n",
        "        y = self.predict(x)\n",
        "\n",
        "        return cross_entropy_error(y, t)\n",
        "\n",
        "    def accuracy(self, x, t):\n",
        "        y = self.predict(x)\n",
        "        y = np.argmax(y, axis = 1)\n",
        "        t = np.argmax(t, axis = 1)\n",
        "\n",
        "        accuracy = np.sum(y == t) / float(x.shape[0])\n",
        "        return accuracy\n",
        "\n",
        "    # x : 입력 데이터, t : 정답 레이블\n",
        "    def numerical_gradient(self, x, t):\n",
        "        loss_W = lambda W: self.loss(x, t)\n",
        "\n",
        "        grads = {}\n",
        "        grads['W1'] = numerical_gradient(loss_W, self.params['W1'])\n",
        "        grads['b1'] = numerical_gradient(loss_W, self.params['b1'])\n",
        "        grads['W2'] = numerical_gradient(loss_W, self.params['W2'])\n",
        "        grads['b2'] = numerical_gradient(loss_W, self.params['b2'])\n",
        "\n",
        "        return grads\n",
        "\n",
        "    # 성능 개선판\n",
        "    def gradient(self, x, t):\n",
        "        W1, W2 = self.params['W1'], self.params['W2']\n",
        "        b1, b2 = self.params['b1'], self.params['b2']\n",
        "        grads = {}\n",
        "\n",
        "        batch_num = x.shape[0]\n",
        "\n",
        "        # forward\n",
        "        a1 = np.dot(x, W1) + b1\n",
        "        z1 = sigmoid(a1)\n",
        "        a2 = np.dot(z1, W2) + b2\n",
        "        y = softmax(a2)\n",
        "\n",
        "        # backward\n",
        "        dy = (y - t) / batch_num\n",
        "        grads['W2'] = np.dot(z1.T, dy)\n",
        "        grads['b2'] = np.sum(dy, axis=0)\n",
        "\n",
        "        da1 = np.dot(dy, W2.T)\n",
        "        dz1 = sigmoid_grad(a1) * da1\n",
        "        grads['W1'] = np.dot(x.T, dz1)\n",
        "        grads['b1'] = np.sum(dz1, axis=0)\n",
        "\n",
        "        return grads"
      ],
      "metadata": {
        "id": "T1Cakcli_7qG"
      },
      "execution_count": null,
      "outputs": []
    },
    {
      "cell_type": "code",
      "source": [
        "net = TwoLayerNet(input_size = 784, hidden_size = 100, output_size = 10)\n",
        "net.params['W1'].shape  # (784, 100)"
      ],
      "metadata": {
        "colab": {
          "base_uri": "https://localhost:8080/"
        },
        "id": "0lYgLPdOAGRs",
        "outputId": "32ce7407-95aa-4c95-96e4-84c29dc313c8"
      },
      "execution_count": null,
      "outputs": [
        {
          "output_type": "execute_result",
          "data": {
            "text/plain": [
              "(784, 100)"
            ]
          },
          "metadata": {},
          "execution_count": 44
        }
      ]
    },
    {
      "cell_type": "code",
      "source": [
        "net.params['b1'].shape  # (100,)"
      ],
      "metadata": {
        "colab": {
          "base_uri": "https://localhost:8080/"
        },
        "id": "n-gF9YpFAIVe",
        "outputId": "e0389e16-15d9-4ca8-b0d9-386bfb7c9d11"
      },
      "execution_count": null,
      "outputs": [
        {
          "output_type": "execute_result",
          "data": {
            "text/plain": [
              "(100,)"
            ]
          },
          "metadata": {},
          "execution_count": 45
        }
      ]
    },
    {
      "cell_type": "code",
      "source": [
        "net.params['W2'].shape  # (100, 10)"
      ],
      "metadata": {
        "colab": {
          "base_uri": "https://localhost:8080/"
        },
        "id": "BQ9UolW_AIm-",
        "outputId": "5b9eee2f-c6c1-406d-ed2b-6f338026754c"
      },
      "execution_count": null,
      "outputs": [
        {
          "output_type": "execute_result",
          "data": {
            "text/plain": [
              "(100, 10)"
            ]
          },
          "metadata": {},
          "execution_count": 46
        }
      ]
    },
    {
      "cell_type": "code",
      "source": [
        "net.params['b2'].shape  # (10,)"
      ],
      "metadata": {
        "colab": {
          "base_uri": "https://localhost:8080/"
        },
        "id": "rBosQsSaAI07",
        "outputId": "950cecb8-8e8d-43bf-edf7-2f620874b78f"
      },
      "execution_count": null,
      "outputs": [
        {
          "output_type": "execute_result",
          "data": {
            "text/plain": [
              "(10,)"
            ]
          },
          "metadata": {},
          "execution_count": 47
        }
      ]
    },
    {
      "cell_type": "code",
      "source": [
        "x = np.random.rand(100, 784)  # 더미 입력 데이터(100장 분량)\n",
        "y = net.predict(x)"
      ],
      "metadata": {
        "id": "HPv7VVB5AQWK"
      },
      "execution_count": null,
      "outputs": []
    },
    {
      "cell_type": "code",
      "source": [
        "x = np.random.rand(100, 784)  # 더미 입력 데이터(100장 분량)\n",
        "t = np.random.rand(100, 10)   # 더미 정답 레이블(100장 분량)\n",
        "\n",
        "grads = net.numerical_gradient(x, t)  # 기울기 계산\n",
        "\n",
        "grads['W1'].shape  # (784, 100)"
      ],
      "metadata": {
        "colab": {
          "base_uri": "https://localhost:8080/"
        },
        "id": "ZzONahl4ASvp",
        "outputId": "ace708b3-f4eb-480e-b0ef-c52ded66c2d0"
      },
      "execution_count": null,
      "outputs": [
        {
          "output_type": "execute_result",
          "data": {
            "text/plain": [
              "(784, 100)"
            ]
          },
          "metadata": {},
          "execution_count": 49
        }
      ]
    },
    {
      "cell_type": "code",
      "source": [
        "grads['b1'].shape  # (100,)"
      ],
      "metadata": {
        "colab": {
          "base_uri": "https://localhost:8080/"
        },
        "id": "xO-SSViyAWrO",
        "outputId": "77b562b7-3b30-459b-9ab0-f196f1c0c589"
      },
      "execution_count": null,
      "outputs": [
        {
          "output_type": "execute_result",
          "data": {
            "text/plain": [
              "(100,)"
            ]
          },
          "metadata": {},
          "execution_count": 50
        }
      ]
    },
    {
      "cell_type": "code",
      "source": [
        "grads['W2'].shape  # (100, 10)"
      ],
      "metadata": {
        "colab": {
          "base_uri": "https://localhost:8080/"
        },
        "id": "m2JiTzaEAXAd",
        "outputId": "c25cba9c-46c7-4991-dc7c-d7284cb9bbd7"
      },
      "execution_count": null,
      "outputs": [
        {
          "output_type": "execute_result",
          "data": {
            "text/plain": [
              "(100, 10)"
            ]
          },
          "metadata": {},
          "execution_count": 51
        }
      ]
    },
    {
      "cell_type": "code",
      "source": [
        "grads['b2'].shape  # (10,)"
      ],
      "metadata": {
        "colab": {
          "base_uri": "https://localhost:8080/"
        },
        "id": "Rx4MYCahAXP3",
        "outputId": "7ae66ece-92f3-4af3-fd80-5f15d91c68f0"
      },
      "execution_count": null,
      "outputs": [
        {
          "output_type": "execute_result",
          "data": {
            "text/plain": [
              "(10,)"
            ]
          },
          "metadata": {},
          "execution_count": 52
        }
      ]
    },
    {
      "cell_type": "markdown",
      "source": [
        "### 4.5.2 미니배치 학습 구현하기"
      ],
      "metadata": {
        "id": "oV1vf-3NBcIf"
      }
    },
    {
      "cell_type": "markdown",
      "source": [
        "***ch04/train_neuralnet_1.py***"
      ],
      "metadata": {
        "id": "7KCc-KZRBzHI"
      }
    },
    {
      "cell_type": "code",
      "source": [
        "import numpy as np\n",
        "#from dataset.mnist import load_mnist\n",
        "#from two_layer_net import TwoLayerNet\n",
        "\n",
        "(x_train, t_train), (x_test, t_test) = \\\n",
        "    load_mnist(normalize = True, one_hot_label = True)\n",
        "\n",
        "train_loss_list = []\n",
        "\n",
        "# 하이퍼파라미터\n",
        "iters_num = 10000  # 반복 횟수\n",
        "train_size = x_train.shape[0]\n",
        "batch_size = 100   # 미니배치 크기\n",
        "learning_rate = 0.1\n",
        "network = TwoLayerNet(input_size = 784, hidden_size = 50, output_size = 10)\n",
        "\n",
        "for i in range(iters_num):\n",
        "    # 미니배치 획득\n",
        "    batch_mask = np.random.choice(train_size, batch_size)\n",
        "    x_batch = x_train[batch_mask]\n",
        "    t_batch = t_train[batch_mask]\n",
        "\n",
        "    # 기울기 계산\n",
        "    #grad = network.numerical_gradient(x_batch, t_batch)\n",
        "    grad = network.gradient(x_batch, t_batch)  # 성능 개선판!\n",
        "\n",
        "    # 매개변수 갱신\n",
        "    for key in ('W1', 'b1', 'W2', 'b2'):\n",
        "        network.params[key] -= learning_rate * grad[key]\n",
        "\n",
        "    # 학습 경과 기록\n",
        "    loss = network.loss(x_batch, t_batch)\n",
        "    train_loss_list.append(loss)\n",
        "\n",
        "# 그래프 그리기\n",
        "x = np.arange(len(train_loss_list))\n",
        "plt.plot(x, train_loss_list)\n",
        "plt.xlabel(\"iteration\")\n",
        "plt.ylabel(\"loss\")\n",
        "plt.ylim(0, 9)\n",
        "plt.xlim(0, 10000)\n",
        "plt.show()"
      ],
      "metadata": {
        "colab": {
          "base_uri": "https://localhost:8080/",
          "height": 455
        },
        "id": "PO1KnfhcB2Br",
        "outputId": "61efe11b-b508-47ef-e3ea-992661418fe6"
      },
      "execution_count": null,
      "outputs": [
        {
          "output_type": "display_data",
          "data": {
            "text/plain": [
              "<Figure size 640x480 with 1 Axes>"
            ],
            "image/png": "[encoded data removed]"
          },
          "metadata": {}
        }
      ]
    },
    {
      "cell_type": "markdown",
      "source": [
        "### 4.5.3 시험 데이터로 평가하기"
      ],
      "metadata": {
        "id": "uMmh4LNbCela"
      }
    },
    {
      "cell_type": "markdown",
      "source": [
        "***ch04/train_neuralnet_2.py***"
      ],
      "metadata": {
        "id": "Kt4eATSHCjCw"
      }
    },
    {
      "cell_type": "code",
      "source": [
        "import numpy as np\n",
        "#from dataset.mnist import load_mnist\n",
        "#from two_layer_net import TwoLayerNet\n",
        "\n",
        "(x_train, t_train), (x_test, t_test) = \\\n",
        "    load_mnist(normalize = True, one_hot_label = True)\n",
        "\n",
        "network = TwoLayerNet(input_size = 784, hidden_size = 50, output_size = 10)\n",
        "\n",
        "# 하이퍼파라미터\n",
        "iters_num = 10000  # 반복 횟수를 적절히 설정한다.\n",
        "train_size = x_train.shape[0]\n",
        "batch_size = 100   # 미니배치 크기\n",
        "learning_rate = 0.1\n",
        "\n",
        "train_loss_list = []\n",
        "train_acc_list = []\n",
        "test_acc_list = []\n",
        "\n",
        "# 1에폭당 반복 수\n",
        "iter_per_epoch = max(train_size / batch_size, 1)\n",
        "\n",
        "for i in range(iters_num):\n",
        "    # 미니배치 획득\n",
        "    batch_mask = np.random.choice(train_size, batch_size)\n",
        "    x_batch = x_train[batch_mask]\n",
        "    t_batch = t_train[batch_mask]\n",
        "\n",
        "    # 기울기 계산\n",
        "    #grad = network.numerical_gradient(x_batch, t_batch)\n",
        "    grad = network.gradient(x_batch, t_batch)  # 성능 개선판!\n",
        "\n",
        "    # 매개변수 갱신\n",
        "    for key in ('W1', 'b1', 'W2', 'b2'):\n",
        "        network.params[key] -= learning_rate * grad[key]\n",
        "\n",
        "    # 학습 경과 기록\n",
        "    loss = network.loss(x_batch, t_batch)\n",
        "    train_loss_list.append(loss)\n",
        "\n",
        "    # 1에폭당 정확도 계산\n",
        "    if i % iter_per_epoch == 0:\n",
        "        train_acc = network.accuracy(x_train, t_train)\n",
        "        test_acc = network.accuracy(x_test, t_test)\n",
        "        train_acc_list.append(train_acc)\n",
        "        test_acc_list.append(test_acc)\n",
        "        print(\"train acc, test acc | \"\n",
        "            + str(train_acc) + \", \" + str(test_acc))\n",
        "\n",
        "# 그래프 그리기\n",
        "x = np.arange(len(train_acc_list))\n",
        "plt.plot(x, train_acc_list, label='train acc')\n",
        "plt.plot(x, test_acc_list, label='test acc', linestyle='--')\n",
        "plt.xlabel(\"eporchs\")\n",
        "plt.ylabel(\"accuracy\")\n",
        "plt.ylim(0, 1.0)\n",
        "plt.xlim(0, 16)\n",
        "plt.legend(loc='lower right')\n",
        "plt.show()"
      ],
      "metadata": {
        "colab": {
          "base_uri": "https://localhost:8080/",
          "height": 759
        },
        "id": "ieMVr78kChYi",
        "outputId": "45bc29f6-b366-40b0-bc3b-20bad5c1c705"
      },
      "execution_count": null,
      "outputs": [
        {
          "output_type": "stream",
          "name": "stdout",
          "text": [
            "train acc, test acc | 0.10218333333333333, 0.101\n",
            "train acc, test acc | 0.7850833333333334, 0.7909\n",
            "train acc, test acc | 0.8750833333333333, 0.8787\n",
            "train acc, test acc | 0.8989666666666667, 0.9003\n",
            "train acc, test acc | 0.9088333333333334, 0.9118\n",
            "train acc, test acc | 0.9146833333333333, 0.9172\n",
            "train acc, test acc | 0.919, 0.9211\n",
            "train acc, test acc | 0.9231166666666667, 0.926\n",
            "train acc, test acc | 0.9265, 0.9287\n",
            "train acc, test acc | 0.9299333333333333, 0.9318\n",
            "train acc, test acc | 0.9332, 0.9343\n",
            "train acc, test acc | 0.9359833333333333, 0.9374\n",
            "train acc, test acc | 0.9382166666666667, 0.9382\n",
            "train acc, test acc | 0.9407333333333333, 0.9393\n",
            "train acc, test acc | 0.9433666666666667, 0.9416\n",
            "train acc, test acc | 0.9448833333333333, 0.9445\n",
            "train acc, test acc | 0.9469166666666666, 0.9446\n"
          ]
        },
        {
          "output_type": "display_data",
          "data": {
            "text/plain": [
              "<Figure size 640x480 with 1 Axes>"
            ],
            "image/png": "[encoded data removed]"
          },
          "metadata": {}
        }
      ]
    }
  ]
}